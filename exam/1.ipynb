{
 "cells": [
  {
   "cell_type": "markdown",
   "metadata": {},
   "source": [
    "### Екзамен"
   ]
  },
  {
   "cell_type": "markdown",
   "metadata": {},
   "source": [
    "### Завдання \n",
    "- Створити клас, який ініціалізується трьома аргументами, які обєднуються у єдиний атрибут"
   ]
  },
  {
   "cell_type": "code",
   "execution_count": 2,
   "metadata": {},
   "outputs": [
    {
     "name": "stdout",
     "output_type": "stream",
     "text": [
      "Hello beautiful world\n"
     ]
    }
   ],
   "source": [
    "class MyClass:\n",
    "    def __init__(self, arg1, arg2, arg3):\n",
    "        # Об'єднуємо три аргументи в один атрибут \n",
    "        self.combined = f\"{arg1} {arg2} {arg3}\"\n",
    "\n",
    "    def show_combined(self):\n",
    "        # Повертаємо комбінований атрибут\n",
    "        return self.combined\n",
    "\n",
    "\n",
    "# Створення об'єкта класу з трьома аргументами\n",
    "obj = MyClass(\"Hello\", \"beautiful\", \"world\")\n",
    "\n",
    "# Показуємо комбінований атрибут\n",
    "print(obj.show_combined())  # Виведе: Hello beautiful world\n"
   ]
  }
 ],
 "metadata": {
  "kernelspec": {
   "display_name": "Python 3",
   "language": "python",
   "name": "python3"
  },
  "language_info": {
   "codemirror_mode": {
    "name": "ipython",
    "version": 3
   },
   "file_extension": ".py",
   "mimetype": "text/x-python",
   "name": "python",
   "nbconvert_exporter": "python",
   "pygments_lexer": "ipython3",
   "version": "3.12.1"
  }
 },
 "nbformat": 4,
 "nbformat_minor": 2
}
