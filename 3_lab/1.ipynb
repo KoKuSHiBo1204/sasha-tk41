{
 "cells": [
  {
   "cell_type": "markdown",
   "metadata": {},
   "source": [
    "### Знайомство з ООП"
   ]
  },
  {
   "cell_type": "code",
   "execution_count": 22,
   "metadata": {},
   "outputs": [
    {
     "data": {
      "text/plain": [
       "<module 'my_class' from 'c:\\\\Users\\\\User\\\\Desktop\\\\sasha tk41\\\\3_lab\\\\my_class.py'>"
      ]
     },
     "execution_count": 22,
     "metadata": {},
     "output_type": "execute_result"
    }
   ],
   "source": [
    "import importlib\n",
    "import my_class\n",
    "\n",
    "importlib.reload(my_class)"
   ]
  },
  {
   "cell_type": "code",
   "execution_count": 2,
   "metadata": {},
   "outputs": [
    {
     "name": "stdout",
     "output_type": "stream",
     "text": [
      "<class 'my_class.MySuperClass'>\n",
      "Help on class MySuperClass in module my_class:\n",
      "\n",
      "class MySuperClass(builtins.object)\n",
      " |  MySuperClass(surname: str, name, mark: int, group=None)\n",
      " |\n",
      " |  Тестовий клас, зараз реалізуємо опис студента\n",
      " |\n",
      " |  ---\n",
      " |\n",
      " |  surname : str\n",
      " |      Прізвище студента\n",
      " |\n",
      " |  Methods defined here:\n",
      " |\n",
      " |  __del__(self)\n",
      " |\n",
      " |  __init__(self, surname: str, name, mark: int, group=None)\n",
      " |      Ініціалізуємо обєкт\n",
      " |      - в середині конструктора створюються атрибути\n",
      " |\n",
      " |  __len__(self)\n",
      " |\n",
      " |  __repr__(self)\n",
      " |      Return repr(self).\n",
      " |\n",
      " |  calculate_scholarship_after_session(self, raiting: int)\n",
      " |\n",
      " |  fucntion_in_class(self)\n",
      " |      Це вже метод згідно термінології, і він публічний\n",
      " |\n",
      " |  panishment(self)\n",
      " |\n",
      " |  ----------------------------------------------------------------------\n",
      " |  Class methods defined here:\n",
      " |\n",
      " |  create_from_name_surname(full_name: str)\n",
      " |      альтернативний конструктор, створюємо обєкт з повного імені\n",
      " |      розчеплюємо повне імя на частинки Прізкище та Імя\n",
      " |\n",
      " |  create_from_surname_name(full_name: str)\n",
      " |      альтернативний конструктор, створюємо обєкт з повного імені\n",
      " |      розчеплюємо повне імя на частинки Прізкище та Імя\n",
      " |\n",
      " |  ----------------------------------------------------------------------\n",
      " |  Static methods defined here:\n",
      " |\n",
      " |  hobbi(h=None)\n",
      " |      в таких методах нема вказівника на обєкт\n",
      " |\n",
      " |  ----------------------------------------------------------------------\n",
      " |  Readonly properties defined here:\n",
      " |\n",
      " |  college_raiting\n",
      " |\n",
      " |  name\n",
      " |      Ця властивість є закритою, її можна читати але не можна змінювати\n",
      " |\n",
      " |  say_hello\n",
      " |\n",
      " |  surname\n",
      " |\n",
      " |  ----------------------------------------------------------------------\n",
      " |  Data descriptors defined here:\n",
      " |\n",
      " |  __dict__\n",
      " |      dictionary for instance variables\n",
      " |\n",
      " |  __weakref__\n",
      " |      list of weak references to the object\n",
      " |\n",
      " |  ----------------------------------------------------------------------\n",
      " |  Data and other attributes defined here:\n",
      " |\n",
      " |  COLLEGE_NAME = 'Це подібне до константи в клосі, але ми можемо її пере...\n",
      " |\n",
      " |  total_marks = 0\n",
      " |\n",
      " |  total_students = 0\n",
      " |\n",
      " |  var_lover_case = 'Це проста класова змінна'\n",
      "\n"
     ]
    }
   ],
   "source": [
    "from my_class import MySuperClass, function_in_module\n",
    "\n",
    "print(MySuperClass)\n",
    "help(MySuperClass)"
   ]
  },
  {
   "cell_type": "code",
   "execution_count": 3,
   "metadata": {},
   "outputs": [
    {
     "name": "stdout",
     "output_type": "stream",
     "text": [
      "['Студент MN S отримав оцінку 3', 'Студент SS S отримав оцінку 5', 'Студент SZ S отримав оцінку 5', 'Студент MP S отримав оцінку 3']\n"
     ]
    }
   ],
   "source": [
    "name = [\"S\", \"S\", \"S\", \"S\"]\n",
    "surname = [\"MN\", \"SS\", \"SZ\", \"MP\"]\n",
    "mark = [3, 5, 5, 3]\n",
    "\n",
    "print([f\"Студент {surname[i]} {name[i]} отримав оцінку {mark[i]}\" for i in range(len(name))])"
   ]
  },
  {
   "cell_type": "code",
   "execution_count": 5,
   "metadata": {},
   "outputs": [
    {
     "name": "stdout",
     "output_type": "stream",
     "text": [
      "Студент S MN отримав оцінку 4\n",
      "Студент S SS отримав оцінку 5\n",
      "Студент S SZ отримав оцінку 3\n",
      "Студент S MP отримав оцінку 4\n"
     ]
    }
   ],
   "source": [
    "d = {\n",
    "    \"Прізвище\": [\"S\", \"S\", \"S\", \"S\"],\n",
    "    \"Імя\": [\"MN\", \"SS\", \"SZ\", \"MP\"],\n",
    "    \"Оцінка\": [4, 5, 3, 4]\n",
    "}\n",
    "\n",
    "for i in range(len(d[\"Прізвище\"])):\n",
    "    print(f\"Студент {d[\"Прізвище\"][i]} {d[\"Імя\"][i]} отримав оцінку {d[\"Оцінка\"][i]}\")"
   ]
  },
  {
   "cell_type": "code",
   "execution_count": 6,
   "metadata": {},
   "outputs": [
    {
     "name": "stdout",
     "output_type": "stream",
     "text": [
      "Викликаємо __init__\n",
      "Викликаємо __init__\n",
      "Викликаємо __init__\n",
      "Викликаємо __init__\n",
      "Студент S MN отримав оцінку 4\n",
      "Студент S SS отримав оцінку 5\n",
      "Студент S SZ отримав оцінку 3\n",
      "Студент S MP отримав оцінку 4\n"
     ]
    }
   ],
   "source": [
    "from my_class import MySuperClass\n",
    "c = [MySuperClass(\"S\", \"MN\", 4),\n",
    "     MySuperClass(\"S\", \"SS\", 5),\n",
    "     MySuperClass(\"S\", \"SZ\", 3),\n",
    "     MySuperClass(\"S\", \"MP\", 4)\n",
    "     ]\n",
    "\n",
    "for student in c:\n",
    "    print(f\"Студент {student.surname} {student.name} отримав оцінку {student.mark}\")"
   ]
  },
  {
   "cell_type": "markdown",
   "metadata": {},
   "source": [
    "### Термінологія\n",
    "- __init__ - аналог конструктора, це є перший метод який викликається при створення обєкта\n",
    "- __repr__ - стрічкове представлення нашого обєкту\n",
    "- docstring - опис класу, що він робити та як ним користуватись\n",
    "- всі методи як мають подвійне підкреслення називаються Магічними\n",
    "- будь-що що передається на вхід функції або нашого коструктора називається аргументом, наприклад surname це аршументом\n",
    "- коли інфціалізується обєкт то йому присвоюються атрибути"
   ]
  },
  {
   "cell_type": "code",
   "execution_count": 7,
   "metadata": {},
   "outputs": [
    {
     "name": "stdout",
     "output_type": "stream",
     "text": [
      "Викликаємо __init__\n",
      "Представлення обєкту Студент, його задають: MySuperClass(surname, name, mark)\n",
      "Help on MySuperClass in module my_class object:\n",
      "\n",
      "class MySuperClass(builtins.object)\n",
      " |  MySuperClass(surname: str, name, mark: int, group=None)\n",
      " |\n",
      " |  Тестовий клас, зараз реалізуємо опис студента\n",
      " |\n",
      " |  ---\n",
      " |\n",
      " |  surname : str\n",
      " |      Прізвище студента\n",
      " |\n",
      " |  Methods defined here:\n",
      " |\n",
      " |  __del__(self)\n",
      " |\n",
      " |  __init__(self, surname: str, name, mark: int, group=None)\n",
      " |      Ініціалізуємо обєкт\n",
      " |      - в середині конструктора створюються атрибути\n",
      " |\n",
      " |  __len__(self)\n",
      " |\n",
      " |  __repr__(self)\n",
      " |      Return repr(self).\n",
      " |\n",
      " |  calculate_scholarship_after_session(self, raiting: int)\n",
      " |\n",
      " |  fucntion_in_class(self)\n",
      " |      Це вже метод згідно термінології, і він публічний\n",
      " |\n",
      " |  panishment(self)\n",
      " |\n",
      " |  ----------------------------------------------------------------------\n",
      " |  Class methods defined here:\n",
      " |\n",
      " |  create_from_name_surname(full_name: str)\n",
      " |      альтернативний конструктор, створюємо обєкт з повного імені\n",
      " |      розчеплюємо повне імя на частинки Прізкище та Імя\n",
      " |\n",
      " |  create_from_surname_name(full_name: str)\n",
      " |      альтернативний конструктор, створюємо обєкт з повного імені\n",
      " |      розчеплюємо повне імя на частинки Прізкище та Імя\n",
      " |\n",
      " |  ----------------------------------------------------------------------\n",
      " |  Static methods defined here:\n",
      " |\n",
      " |  hobbi(h=None)\n",
      " |      в таких методах нема вказівника на обєкт\n",
      " |\n",
      " |  ----------------------------------------------------------------------\n",
      " |  Readonly properties defined here:\n",
      " |\n",
      " |  college_raiting\n",
      " |\n",
      " |  name\n",
      " |      Ця властивість є закритою, її можна читати але не можна змінювати\n",
      " |\n",
      " |  say_hello\n",
      " |\n",
      " |  surname\n",
      " |\n",
      " |  ----------------------------------------------------------------------\n",
      " |  Data descriptors defined here:\n",
      " |\n",
      " |  __dict__\n",
      " |      dictionary for instance variables\n",
      " |\n",
      " |  __weakref__\n",
      " |      list of weak references to the object\n",
      " |\n",
      " |  ----------------------------------------------------------------------\n",
      " |  Data and other attributes defined here:\n",
      " |\n",
      " |  COLLEGE_NAME = 'Це подібне до константи в клосі, але ми можемо її пере...\n",
      " |\n",
      " |  total_marks = 17\n",
      " |\n",
      " |  total_students = 5\n",
      " |\n",
      " |  var_lover_case = 'Це проста класова змінна'\n",
      "\n",
      "Тестовий клас, зараз реалізуємо опис студента\n",
      "    \n",
      "    ---\n",
      "\n",
      "    surname : str\n",
      "        Прізвище студента\n",
      "    \n",
      "    \n",
      "Довжина прізвища:  4\n",
      "Беремо атрибут імені СШ\n"
     ]
    }
   ],
   "source": [
    "from my_class import MySuperClass\n",
    "obj = MySuperClass(\"Саша\", \"СШ\", 1)\n",
    "\n",
    "print(obj)\n",
    "help(obj)\n",
    "\n",
    "print(MySuperClass.__doc__)\n",
    "\n",
    "print(\"Довжина прізвища: \", len(obj))\n",
    "\n",
    "print(\"Беремо атрибут імені\", obj.name)"
   ]
  },
  {
   "cell_type": "markdown",
   "metadata": {},
   "source": [
    "### Принципи роботи атрибутів та властивостей\n",
    "- хоча ми можемо задавати типи аргументів які пердаються в конструктор, нічого не буде якщо ми їх не дотримаємось\n",
    "- при створенні обєкта всі методи та атриути які були в класі також будуть в обєкт\n",
    "- але ми можемо створювати динамічні атрибути, які будуть властиві лише для конкретного обєкта\n",
    "- коли створюються динамічні атрибути вони порушують механіку класу, найчастіше тому задають наперед визначені атрибути\n",
    "- Значення атрибутів можна змінювати/модифікувати під час роботи з ними\n",
    "- але існують так звані Властивості - це тіж самі поля з інформацією про обєкт але їх не можна модифікувати\n",
    "- якщо ми хочемо щоб якісь дані були незмінними то ми створюємо властивості а в середині конструктора передбачаємо приватні атрибути\n",
    "- до паблік та пзахищених атрибутів можна доступитись і змінити їх, але ніяк до приватних"
   ]
  },
  {
   "cell_type": "code",
   "execution_count": 8,
   "metadata": {},
   "outputs": [
    {
     "name": "stdout",
     "output_type": "stream",
     "text": [
      "Викликаємо __init__\n",
      "В обєкта будуть наступні атрибути: {'_MySuperClass__surname': 1, '_MySuperClass__name': 'Один', 'mark': 1, 'group': None, '_age': None, '_scholarship': 0, 'var_lover_case': 'Перазаписали класові змінну'}\n",
      "Викликаємо __init__\n",
      "{'_MySuperClass__surname': 1, '_MySuperClass__name': 'Один', 'mark': 1, 'group': 'TK-41', '_age': None, '_scholarship': 0, 'var_lover_case': 'Перазаписали класові змінну'} але базові атрибути будуть доступними для {'_MySuperClass__surname': 2, '_MySuperClass__name': 'Два', 'mark': 2, 'group': None, '_age': None, '_scholarship': 0, 'var_lover_case': 'Перазаписали класові змінну'}\n",
      "Викликаємо __init__\n",
      "В цьоьму обєкті ми явно задали всі атрибути {'_MySuperClass__surname': 3, '_MySuperClass__name': 'Три', 'mark': 3, 'group': 'TK-42', '_age': None, '_scholarship': 0, 'var_lover_case': 'Перазаписали класові змінну'}\n"
     ]
    }
   ],
   "source": [
    "from my_class import MySuperClass\n",
    "\n",
    "s1 = MySuperClass(1, \"Один\", 1)\n",
    "\n",
    "print(f\"В обєкта будуть наступні атрибути: {s1.__dict__}\")\n",
    "s1.group = \"TK-41\"\n",
    "\n",
    "s2 = MySuperClass(2, \"Два\", 2)\n",
    "print(f\"{s1.__dict__} але базові атрибути будуть доступними для {s2.__dict__}\")\n",
    "\n",
    "s3 = MySuperClass(3, \"Три\", 3, \"TK-42\")\n",
    "print(f\"В цьоьму обєкті ми явно задали всі атрибути {s3.__dict__}\")"
   ]
  },
  {
   "cell_type": "code",
   "execution_count": 10,
   "metadata": {},
   "outputs": [
    {
     "name": "stdout",
     "output_type": "stream",
     "text": [
      "Один\n",
      "1\n",
      "10\n",
      "32\n"
     ]
    }
   ],
   "source": [
    "print(s1.name)\n",
    "#s1.name = \"Три\"\n",
    "\n",
    "print(s1.surname)\n",
    "\n",
    "print(s1._age)\n",
    "s1._age = 32\n",
    "print(s1._age)\n",
    "\n",
    "# s1.__surname  # хоча ВіжуалСтудіо підкидує автокомплішн, це буде помилка"
   ]
  },
  {
   "cell_type": "markdown",
   "metadata": {},
   "source": [
    "### Методи класу\n",
    "- методи це ті самі функії однак визначені всередині класу\n",
    "- методи реалізують певні дії над обєктом або дії самого обєкту\n",
    "- так само як з атрибутами, є публічні, захищені та приватні методи"
   ]
  },
  {
   "cell_type": "code",
   "execution_count": 16,
   "metadata": {},
   "outputs": [
    {
     "name": "stdout",
     "output_type": "stream",
     "text": [
      "Викликаємо __init__\n",
      "Відрахували студента\n",
      "Ми викликали публічний метод\n",
      "Це приватний метод!\n",
      "Ми доступаємось до захищеного методу\n",
      "\n",
      "Тільки прийшли вчитись в коледж: 0\n",
      "Провчились семестр і здали все на 5:  Присвоєно підвищену стипундію\n",
      "І наша стипендія тепер: 2000 грн\n",
      "За другий семетр набрали рейтинг 4 : Присвоєно звичайну стипундію\n",
      "А тепер вона: 1500 грн\n",
      "Перестали вчитись: Рейтинг занизький для стипендії\n",
      "а тепер: 0\n",
      "\n"
     ]
    }
   ],
   "source": [
    "from my_class import MySuperClass\n",
    "\n",
    "s1 = MySuperClass(1, \"Один\", 1)\n",
    "\n",
    "print(s1.fucntion_in_class())\n",
    "print(s1._protected_method_in_class())\n",
    "\n",
    "print(f\"\"\"\n",
    "Тільки прийшли вчитись в коледж: {s1._scholarship}\n",
    "Провчились семестр і здали все на 5:  {s1.calculate_scholarship_after_session(5)}\n",
    "І наша стипендія тепер: {s1._scholarship}\n",
    "За другий семетр набрали рейтинг 4 : {s1.calculate_scholarship_after_session(4)}\n",
    "А тепер вона: {s1._scholarship}\n",
    "Перестали вчитись: {s1.calculate_scholarship_after_session(3)}\n",
    "а тепер: {s1._scholarship}\n",
    "\"\"\")"
   ]
  },
  {
   "cell_type": "code",
   "execution_count": 17,
   "metadata": {},
   "outputs": [
    {
     "name": "stdout",
     "output_type": "stream",
     "text": [
      "Відрахували студента\n"
     ]
    }
   ],
   "source": [
    "del s1"
   ]
  },
  {
   "cell_type": "code",
   "execution_count": 19,
   "metadata": {},
   "outputs": [
    {
     "name": "stdout",
     "output_type": "stream",
     "text": [
      "Викликаємо __init__\n",
      "Викликаємо __init__\n",
      "Відрахували студента\n",
      "Перазаписали класові змінну Це проста класова змінна\n",
      "1 9.0\n"
     ]
    }
   ],
   "source": [
    "from my_class import MySuperClass\n",
    "\n",
    "s1 = MySuperClass(1, \"Один\", 1)\n",
    "s2 = MySuperClass(2, \"Два\", 3)\n",
    "\n",
    "print(s1.var_lover_case, MySuperClass.var_lover_case)\n",
    "print(MySuperClass.total_students, s1.college_raiting)"
   ]
  },
  {
   "cell_type": "markdown",
   "metadata": {},
   "source": [
    "### Вказівник на обєкт та статичні методи"
   ]
  },
  {
   "cell_type": "code",
   "execution_count": 23,
   "metadata": {},
   "outputs": [
    {
     "name": "stdout",
     "output_type": "stream",
     "text": [
      "Викликаємо __init__\n",
      "Відрахували студента\n",
      "В мене зявилось хобі Велосипед\n",
      "На жаль в мене немає хобі\n",
      "В мене зявилось хобі швидка їзда\n"
     ]
    }
   ],
   "source": [
    "from my_class import MySuperClass\n",
    "\n",
    "a = MySuperClass(1, \"Один\", 1)\n",
    "a.fucntion_in_class()\n",
    "\n",
    "b = MySuperClass.fucntion_in_class(a)\n",
    "\n",
    "a.hobbi(\"Велосипед\")\n",
    "\n",
    "# також ми викликаємо статичний метод з класу без вказування обєкту\n",
    "MySuperClass.hobbi()\n",
    "MySuperClass.hobbi(\"швидка їзда\")"
   ]
  },
  {
   "cell_type": "markdown",
   "metadata": {},
   "source": [
    "### Альтернативні конструктори"
   ]
  },
  {
   "cell_type": "code",
   "execution_count": 27,
   "metadata": {},
   "outputs": [
    {
     "name": "stdout",
     "output_type": "stream",
     "text": [
      "Викликаємо __init__\n",
      "Відрахували студента\n",
      "Викликаємо __init__\n",
      "Відрахували студента\n",
      "Викликаємо __init__\n",
      "Відрахували студента\n",
      "Sasha Shumlianskyi Shumlianskyi\n"
     ]
    }
   ],
   "source": [
    "from my_class import MySuperClass\n",
    "\n",
    "js = MySuperClass(\"Sasha\", \"Shumlianskyi\", 0)\n",
    "\n",
    "f_js = MySuperClass.create_from_name_surname(\"Sasha Shumlianskyi\")\n",
    "\n",
    "r_js = MySuperClass.create_from_surname_name(\"Shumlianskyi Sasha\")\n",
    "print(js.surname, f_js.surname, r_js.surname)"
   ]
  }
 ],
 "metadata": {
  "kernelspec": {
   "display_name": "Python 3",
   "language": "python",
   "name": "python3"
  },
  "language_info": {
   "codemirror_mode": {
    "name": "ipython",
    "version": 3
   },
   "file_extension": ".py",
   "mimetype": "text/x-python",
   "name": "python",
   "nbconvert_exporter": "python",
   "pygments_lexer": "ipython3",
   "version": "3.12.5"
  }
 },
 "nbformat": 4,
 "nbformat_minor": 2
}
