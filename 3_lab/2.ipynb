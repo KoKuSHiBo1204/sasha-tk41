{
 "cells": [
  {
   "cell_type": "markdown",
   "metadata": {},
   "source": [
    "## Захист лабораторної роботи"
   ]
  },
  {
   "cell_type": "code",
   "execution_count": 11,
   "metadata": {},
   "outputs": [
    {
     "name": "stdout",
     "output_type": "stream",
     "text": [
      "Аргумент 1: Мене звати Олександр мені\n",
      "Аргумент 2: 18\n"
     ]
    }
   ],
   "source": [
    "class MyClass:\n",
    "    def __init__(self, arg1, arg2):\n",
    "        \"\"\"Конструктор класу приймає два аргументи.\"\"\"\n",
    "        self.arg1 = arg1\n",
    "        self.arg2 = arg2\n",
    "\n",
    "    def display(self):\n",
    "        \"\"\"Метод для виведення значень аргументів.\"\"\"\n",
    "        print(f\"Аргумент 1: {self.arg1}\")\n",
    "        print(f\"Аргумент 2: {self.arg2}\")\n",
    "\n",
    "\n",
    "obj = MyClass(\"Мене звати Олександр мені\",18 )\n",
    "\n",
    "obj.display()\n"
   ]
  }
 ],
 "metadata": {
  "kernelspec": {
   "display_name": "Python 3",
   "language": "python",
   "name": "python3"
  },
  "language_info": {
   "codemirror_mode": {
    "name": "ipython",
    "version": 3
   },
   "file_extension": ".py",
   "mimetype": "text/x-python",
   "name": "python",
   "nbconvert_exporter": "python",
   "pygments_lexer": "ipython3",
   "version": "3.12.5"
  }
 },
 "nbformat": 4,
 "nbformat_minor": 2
}
